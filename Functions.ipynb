{
  "nbformat": 4,
  "nbformat_minor": 0,
  "metadata": {
    "colab": {
      "name": "Functions.ipynb",
      "provenance": [],
      "collapsed_sections": []
    },
    "kernelspec": {
      "name": "python3",
      "display_name": "Python 3"
    },
    "language_info": {
      "name": "python"
    }
  },
  "cells": [
    {
      "cell_type": "markdown",
      "source": [
        "Q1. Write a lambda expression to extract first word of a string."
      ],
      "metadata": {
        "id": "74-hWdwIPbPj"
      }
    },
    {
      "cell_type": "code",
      "source": [
        "str_input = \"This is Data Science specialization course\"\n",
        "print(list(map(lambda char:char[0],str_input.split())))"
      ],
      "metadata": {
        "colab": {
          "base_uri": "https://localhost:8080/"
        },
        "id": "Fqy0Jh2wPYab",
        "outputId": "59421d89-8a1f-4f89-affe-7abdc0a78ab3"
      },
      "execution_count": 32,
      "outputs": [
        {
          "output_type": "stream",
          "name": "stdout",
          "text": [
            "['T', 'i', 'D', 'S', 's', 'c']\n"
          ]
        }
      ]
    },
    {
      "cell_type": "markdown",
      "source": [
        "Q.2 Write a function to extract first word of s string (with many words separated by space)\n"
      ],
      "metadata": {
        "id": "k4bfvIdOPk_s"
      }
    },
    {
      "cell_type": "code",
      "source": [
        "def first_char(inputString):\n",
        "  print(inputString.split()[0])"
      ],
      "metadata": {
        "id": "e3DM7SJQv-py"
      },
      "execution_count": 33,
      "outputs": []
    },
    {
      "cell_type": "code",
      "source": [
        "first_char(\"This is Data Science specialization course\")"
      ],
      "metadata": {
        "colab": {
          "base_uri": "https://localhost:8080/"
        },
        "id": "rWa5HUAwN4Un",
        "outputId": "4a19d676-fd87-4ccd-f7cd-dfee365a0c9d"
      },
      "execution_count": 34,
      "outputs": [
        {
          "output_type": "stream",
          "name": "stdout",
          "text": [
            "This\n"
          ]
        }
      ]
    },
    {
      "cell_type": "markdown",
      "source": [
        "Q.3 Extract the first word from every string from a list of strings by using map function.\n"
      ],
      "metadata": {
        "id": "nNdKfmmAPpEu"
      }
    },
    {
      "cell_type": "code",
      "source": [
        "str_list = [\"This is Course\",\"mY course\",\"He is alive\",\"They are playing\"]\n",
        "print(list(map(lambda char:char.split()[0],str_list)))"
      ],
      "metadata": {
        "colab": {
          "base_uri": "https://localhost:8080/"
        },
        "id": "MpP3h8kl0gWu",
        "outputId": "2aae6fc7-76e7-4fe9-a084-c076ac078e11"
      },
      "execution_count": 35,
      "outputs": [
        {
          "output_type": "stream",
          "name": "stdout",
          "text": [
            "['This', 'mY', 'He', 'They']\n"
          ]
        }
      ]
    },
    {
      "cell_type": "markdown",
      "source": [
        "Q.4 Write a function to return a list of prime factors of a given number."
      ],
      "metadata": {
        "id": "9Y6NnGgIPvMI"
      }
    },
    {
      "cell_type": "code",
      "source": [
        "def primeNum(num):\n",
        "  checkFlag=False\n",
        "  if num>1: \n",
        "    for i in range(2,num):\n",
        "      if num%i==0:\n",
        "        checkFlag=True\n",
        "        break\n",
        "  if checkFlag:\n",
        "    return True\n",
        "  else:\n",
        "    return False\n",
        "  \n",
        "def primeFactor(num):\n",
        "  factor_list = []\n",
        "  i = 2\n",
        "  while num>=i:\n",
        "    if num%i == 0:\n",
        "      if primeNum(i)==False:\n",
        "        factor_list.append(i)\n",
        "      num//=i\n",
        "    i+=1\n",
        "  return factor_list"
      ],
      "metadata": {
        "id": "gPjtItC4MZIu"
      },
      "execution_count": 41,
      "outputs": []
    },
    {
      "cell_type": "code",
      "source": [
        "print(primeFactor(45))"
      ],
      "metadata": {
        "colab": {
          "base_uri": "https://localhost:8080/"
        },
        "id": "AVlGngqPRge3",
        "outputId": "739b7a96-94aa-4c2f-eac6-1510b4fd2ead"
      },
      "execution_count": 42,
      "outputs": [
        {
          "output_type": "stream",
          "name": "stdout",
          "text": [
            "[3, 5]\n"
          ]
        }
      ]
    },
    {
      "cell_type": "code",
      "source": [
        "print(primeFactor(24))"
      ],
      "metadata": {
        "colab": {
          "base_uri": "https://localhost:8080/"
        },
        "id": "96Y98lxmVLi_",
        "outputId": "4d62a47c-abd4-4654-c639-dde136689231"
      },
      "execution_count": 43,
      "outputs": [
        {
          "output_type": "stream",
          "name": "stdout",
          "text": [
            "[2, 3]\n"
          ]
        }
      ]
    },
    {
      "cell_type": "markdown",
      "source": [
        "Q5. Write a function that finds 2nd largest among 4 numbers (Repetitions are allowed, without sorting)."
      ],
      "metadata": {
        "id": "9j_7NsRKPv21"
      }
    },
    {
      "cell_type": "code",
      "source": [
        "def largest(numlist):\n",
        "  k=numlist[0]\n",
        "  for i in numlist[1:]:\n",
        "    if k<i:\n",
        "      k=i\n",
        "  numlist.remove(k)\n",
        "  return (numlist,k)\n",
        "\n",
        "def second_largest(numList):\n",
        "  numList=list(set(numList))\n",
        "  templist = numList\n",
        "  for i in range(2):\n",
        "    templist,l=largest(templist)\n",
        "  return l\n"
      ],
      "metadata": {
        "id": "8rtYVL6UR4To"
      },
      "execution_count": 44,
      "outputs": []
    },
    {
      "cell_type": "code",
      "source": [
        "second_largest([11, 9, 8, 9 , 8, 11, 19, 4 ,1 ,10])"
      ],
      "metadata": {
        "colab": {
          "base_uri": "https://localhost:8080/"
        },
        "id": "b20ZRTRJUlVk",
        "outputId": "bf0db5e2-7cbe-4884-c205-5c3757965315"
      },
      "execution_count": 45,
      "outputs": [
        {
          "output_type": "execute_result",
          "data": {
            "text/plain": [
              "11"
            ]
          },
          "metadata": {},
          "execution_count": 45
        }
      ]
    },
    {
      "cell_type": "markdown",
      "source": [
        "Q.6 Take an input from the user as string and find out all the non duplicate words from the input "
      ],
      "metadata": {
        "id": "zrkM3xa0Zad5"
      }
    },
    {
      "cell_type": "code",
      "source": [
        "# Method1 \n",
        "\n",
        "def unq_word(user_str):\n",
        "  word_list = user_str.split()\n",
        "  #print(word_list)\n",
        "  str_unique = \"\"\n",
        "  count=0\n",
        "  for i in word_list:\n",
        "    if i not in str_unique:\n",
        "      if count==len(word_list)-1:\n",
        "        str_unique+=i\n",
        "      else:\n",
        "        str_unique+=i + \" \"\n",
        "    count+=1\n",
        "  print(str_unique)"
      ],
      "metadata": {
        "id": "YkDzTeN6f7rX"
      },
      "execution_count": 46,
      "outputs": []
    },
    {
      "cell_type": "code",
      "source": [
        "unq_word(\"Hi How are you your you hello\")"
      ],
      "metadata": {
        "colab": {
          "base_uri": "https://localhost:8080/"
        },
        "id": "yUhAm_vogXRa",
        "outputId": "41b63232-05fc-476d-ebca-ad718ca9b9b8"
      },
      "execution_count": 47,
      "outputs": [
        {
          "output_type": "stream",
          "name": "stdout",
          "text": [
            "Hi How are you your hello\n"
          ]
        }
      ]
    },
    {
      "cell_type": "code",
      "source": [
        "unq_word(\"Hello Hello Hi Hi are you doing good Hi Hello\")"
      ],
      "metadata": {
        "colab": {
          "base_uri": "https://localhost:8080/"
        },
        "id": "3yS8VoVGi5kh",
        "outputId": "5f8245f3-b056-42e7-c4ff-aa19150c53e2"
      },
      "execution_count": null,
      "outputs": [
        {
          "output_type": "stream",
          "name": "stdout",
          "text": [
            "Hello Hi are you doing good \n"
          ]
        }
      ]
    },
    {
      "cell_type": "code",
      "source": [
        "# Method 2   # Order of words aren;t preserved\n",
        "\n",
        "def unique_word(user_str):\n",
        "  #user_str = user_str\n",
        "  word_list = user_str.split()\n",
        "  unique_words = set(word_list)\n",
        "  print(\" \".join(list(unique_words)))"
      ],
      "metadata": {
        "id": "DGUyblZZZf7n"
      },
      "execution_count": 48,
      "outputs": []
    },
    {
      "cell_type": "code",
      "source": [
        "unique_word(\"Hi How are you your you hello\")"
      ],
      "metadata": {
        "colab": {
          "base_uri": "https://localhost:8080/"
        },
        "id": "VScH4AFWZUX1",
        "outputId": "5e7186c3-a3e7-4653-8611-5ac4a03fa0cf"
      },
      "execution_count": 49,
      "outputs": [
        {
          "output_type": "stream",
          "name": "stdout",
          "text": [
            "your Hi hello are How you\n"
          ]
        }
      ]
    },
    {
      "cell_type": "markdown",
      "source": [
        "Q.7 Palindrom"
      ],
      "metadata": {
        "id": "fdlUJCf_bUXp"
      }
    },
    {
      "cell_type": "code",
      "source": [
        "# Method 1\n",
        "\n",
        "def palindrom(user_string):\n",
        "  user_input = str(user_string)\n",
        "  variable = \"\"\n",
        "  for i in user_input:\n",
        "      variable = i + variable \n",
        "      #print(variable)\n",
        "  if user_input == variable:\n",
        "      print(\"Palindrom\")\n",
        "  else:\n",
        "    print(\"Not Palindrom\")\n",
        "    "
      ],
      "metadata": {
        "id": "8ohR1JqPbZ7w"
      },
      "execution_count": 50,
      "outputs": []
    },
    {
      "cell_type": "code",
      "source": [
        "palindrom(\"NAMAN\")"
      ],
      "metadata": {
        "colab": {
          "base_uri": "https://localhost:8080/"
        },
        "id": "F_ZuN-IVbwu_",
        "outputId": "87d5f565-7064-4637-abb8-8d0a17b2bd2f"
      },
      "execution_count": null,
      "outputs": [
        {
          "output_type": "stream",
          "name": "stdout",
          "text": [
            "Palindrom\n"
          ]
        }
      ]
    },
    {
      "cell_type": "code",
      "source": [
        "palindrom(\"NAYAN\")"
      ],
      "metadata": {
        "colab": {
          "base_uri": "https://localhost:8080/"
        },
        "id": "WF1lAodKcT4W",
        "outputId": "7f91dc97-9efd-4539-92da-b1edc2e32d47"
      },
      "execution_count": null,
      "outputs": [
        {
          "output_type": "stream",
          "name": "stdout",
          "text": [
            "Palindrom\n"
          ]
        }
      ]
    },
    {
      "cell_type": "code",
      "source": [
        "palindrom(\"Nayan\")"
      ],
      "metadata": {
        "colab": {
          "base_uri": "https://localhost:8080/"
        },
        "id": "9KIyXYFPc-09",
        "outputId": "e6b6992d-a3b7-4257-ccc8-f9b3fe1e63d8"
      },
      "execution_count": null,
      "outputs": [
        {
          "output_type": "stream",
          "name": "stdout",
          "text": [
            "Not Palindrom\n"
          ]
        }
      ]
    },
    {
      "cell_type": "code",
      "source": [
        "palindrom(1221)"
      ],
      "metadata": {
        "colab": {
          "base_uri": "https://localhost:8080/"
        },
        "id": "wk1rKRdVdaHa",
        "outputId": "0b3dae17-4cf0-4d6d-ffb5-9f5548f7279d"
      },
      "execution_count": null,
      "outputs": [
        {
          "output_type": "stream",
          "name": "stdout",
          "text": [
            "Palindrom\n"
          ]
        }
      ]
    },
    {
      "cell_type": "code",
      "source": [
        "# Method 2\n",
        "\n",
        "def palindrom1(user_input):\n",
        "  if str(user_input)==str(user_input)[::-1]:\n",
        "    print(\"Palindrom\")\n",
        "  else:\n",
        "    print(\"Not Palindrom\")"
      ],
      "metadata": {
        "id": "1c_t3lgqdJEz"
      },
      "execution_count": null,
      "outputs": []
    },
    {
      "cell_type": "code",
      "source": [
        "palindrom1(1221)"
      ],
      "metadata": {
        "colab": {
          "base_uri": "https://localhost:8080/"
        },
        "id": "dDtrt6oketQ9",
        "outputId": "d228c788-8a9f-4eb0-db68-a063e55ae54c"
      },
      "execution_count": null,
      "outputs": [
        {
          "output_type": "stream",
          "name": "stdout",
          "text": [
            "Palindrom\n"
          ]
        }
      ]
    },
    {
      "cell_type": "code",
      "source": [
        "palindrom1(\"NAMAN\")"
      ],
      "metadata": {
        "colab": {
          "base_uri": "https://localhost:8080/"
        },
        "id": "T2lxKrdkew0n",
        "outputId": "12cc74db-8864-48c7-c12a-1f526ada3561"
      },
      "execution_count": null,
      "outputs": [
        {
          "output_type": "stream",
          "name": "stdout",
          "text": [
            "Palindrom\n"
          ]
        }
      ]
    },
    {
      "cell_type": "code",
      "source": [
        "palindrom(\"Nayan\")"
      ],
      "metadata": {
        "colab": {
          "base_uri": "https://localhost:8080/"
        },
        "id": "Q-VaPT1be0xn",
        "outputId": "6c57cbae-f1e0-483d-d02b-29ff74b240f6"
      },
      "execution_count": null,
      "outputs": [
        {
          "output_type": "stream",
          "name": "stdout",
          "text": [
            "Not Palindrom\n"
          ]
        }
      ]
    },
    {
      "cell_type": "markdown",
      "source": [
        "Q.8 Exception Handling on LCM HCF"
      ],
      "metadata": {
        "id": "JyQ54oVljkXm"
      }
    },
    {
      "cell_type": "code",
      "source": [
        "\n",
        "def HCF_find(a,b):\n",
        "  while True:\n",
        "    r= b%a\n",
        "    if r!=0:\n",
        "      b,a=a,r\n",
        "    else:\n",
        "      HCF = a\n",
        "      break\n",
        "  return HCF"
      ],
      "metadata": {
        "id": "kJox5Ft2r3QL"
      },
      "execution_count": 21,
      "outputs": []
    },
    {
      "cell_type": "code",
      "source": [
        "def LCM_Algo(a,b):\n",
        "  if a>b:\n",
        "    return (a*b//HCF_find(a,b))\n",
        "  else:\n",
        "    return (a*b//HCF_find(a,b))"
      ],
      "metadata": {
        "id": "RuPlDMVrr3Tn"
      },
      "execution_count": 22,
      "outputs": []
    },
    {
      "cell_type": "code",
      "source": [
        "LCM_Algo(60,45)"
      ],
      "metadata": {
        "colab": {
          "base_uri": "https://localhost:8080/"
        },
        "id": "uf1Qv8HjH0IT",
        "outputId": "1887fe44-217b-4cf8-8f04-9cdee9e50c35"
      },
      "execution_count": 23,
      "outputs": [
        {
          "output_type": "execute_result",
          "data": {
            "text/plain": [
              "180"
            ]
          },
          "metadata": {},
          "execution_count": 23
        }
      ]
    },
    {
      "cell_type": "code",
      "source": [
        "def LCM_find(a,b):\n",
        "  try:\n",
        "    if (a in [0,1]) or (b in [0,1]):\n",
        "      raise ValueError\n",
        "  except ValueError:\n",
        "    print(\"Exception as ValueError Please enter valid number\")\n",
        "  else:\n",
        "    print(LCM_Algo(a,b))\n"
      ],
      "metadata": {
        "id": "VcF4MfByH3HF"
      },
      "execution_count": 24,
      "outputs": []
    },
    {
      "cell_type": "code",
      "source": [
        "LCM_find(45,60)"
      ],
      "metadata": {
        "colab": {
          "base_uri": "https://localhost:8080/"
        },
        "id": "pzNvYDOZH3kE",
        "outputId": "3fc02742-d466-4470-b024-c9fd3b3ac74c"
      },
      "execution_count": null,
      "outputs": [
        {
          "output_type": "stream",
          "name": "stdout",
          "text": [
            "180\n"
          ]
        }
      ]
    },
    {
      "cell_type": "code",
      "source": [
        "LCM_find(1,1)"
      ],
      "metadata": {
        "colab": {
          "base_uri": "https://localhost:8080/"
        },
        "id": "eFm86uwwH3-i",
        "outputId": "6f875855-43ab-4c67-e240-4f3536c21ba0"
      },
      "execution_count": null,
      "outputs": [
        {
          "output_type": "stream",
          "name": "stdout",
          "text": [
            "Exception as ValueError Please enter valid number\n"
          ]
        }
      ]
    },
    {
      "cell_type": "code",
      "source": [
        "LCM_find(1,0)"
      ],
      "metadata": {
        "colab": {
          "base_uri": "https://localhost:8080/"
        },
        "id": "FAon5pwQH4KV",
        "outputId": "4646ec4f-7f33-452b-a0b4-5103e09f3d3d"
      },
      "execution_count": null,
      "outputs": [
        {
          "output_type": "stream",
          "name": "stdout",
          "text": [
            "Exception as ValueError Please enter valid number\n"
          ]
        }
      ]
    }
  ]
}