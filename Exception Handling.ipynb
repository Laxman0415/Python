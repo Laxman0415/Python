{
 "cells": [
  {
   "cell_type": "markdown",
   "id": "63b1afb6-b322-4dc3-b13c-fd962be6f90b",
   "metadata": {},
   "source": [
    "Q. 1 Write your short introduction in a text file. Your introduction consists of Name, Id, contact number, Address, Stream, Joining date, Qualification, Hobbies, Strength and weakness. Pass this file to python. Your task is to calculate total characters, numbers, words and lines used in this introduction file."
   ]
  },
  {
   "cell_type": "code",
   "execution_count": 61,
   "id": "b52d0d9c-2c79-4d3c-8c41-b10fd0839c55",
   "metadata": {},
   "outputs": [
    {
     "name": "stdout",
     "output_type": "stream",
     "text": [
      "Name: Laxman Singh\n",
      "ID: DIRSS3127\n",
      "Contact Number: +917588203478\n",
      "Address: Andheri East Mumbai 400093\n",
      "Stream: Computer Science and Engineering\n",
      "Joining Date: 7th Jan 2022\n",
      "Qualification: B.E CSE\n",
      "Hobbies: Playing Mobile Game\n",
      "Strength: Hardworking\n",
      "Weakness: Saying Yes\n",
      "\n",
      "\n",
      "The results are:\n",
      "Total characters :  261\n",
      "Total Numbers :  27\n",
      "Total Words :  35\n",
      "Total Lines :  10\n"
     ]
    }
   ],
   "source": [
    "with open(\"Intro.txt\",'r') as f:\n",
    "    list_lines=f.readlines()\n",
    "f.close()\n",
    "with open(\"Intro.txt\",'r') as f1:\n",
    "    print(f1.read())\n",
    "f1.close()\n",
    "total_char = 0\n",
    "total_num = 0\n",
    "total_words = 0\n",
    "for line in list_lines:\n",
    "    total_char+= len(line)\n",
    "    for char in line:\n",
    "        if char.isnumeric():\n",
    "            total_num+=1\n",
    "    total_words+= len(line.split())\n",
    "    \n",
    "print(\"\\n\\nThe results are:\")  \n",
    "print(\"Total characters : \",str(total_char))\n",
    "print(\"Total Numbers : \",str(total_num))\n",
    "print(\"Total Words : \",str(total_words))\n",
    "print(\"Total Lines : \",str(len(list_lines)))"
   ]
  },
  {
   "cell_type": "markdown",
   "id": "b760e2ca-53dd-4fd3-9241-104396c4a910",
   "metadata": {},
   "source": [
    "Q.2 Create a file in read only mode. Open this file using python and try to write your contact number in that file. As this file is write protected so an exception should occur. Handle this exception using python script."
   ]
  },
  {
   "cell_type": "code",
   "execution_count": 2,
   "id": "8b1b3056-8eb9-48c6-a547-c86b8b98c281",
   "metadata": {},
   "outputs": [
    {
     "name": "stdout",
     "output_type": "stream",
     "text": [
      "Exception will be raised as File is write protected\n"
     ]
    }
   ],
   "source": [
    "# User defined exceptions\n",
    "\n",
    "class FileInReadModeError(Exception):\n",
    "    \n",
    "    def __init__(self,msg):\n",
    "        self.msg = msg\n",
    "    def ViewMessage(self):\n",
    "        return self.msg\n",
    "    \n",
    "f_read = open(\"random.txt\",'r')\n",
    "try:\n",
    "    if f_read.mode == 'r':\n",
    "        raise FileInReadModeError(\"Exception will be raised as File is write protected\")\n",
    "except FileInReadModeError as rd:\n",
    "    print(rd.ViewMessage())\n",
    "else:\n",
    "    f_read.write(\"+917588203478\")\n",
    "    \n",
    "f_read.close()"
   ]
  },
  {
   "cell_type": "markdown",
   "id": "d4ad666a-8bdf-479f-ab02-bf440d14619a",
   "metadata": {
    "id": "TfSKvcpbpMXN"
   },
   "source": [
    "Q.3 A truck runs a distance of N kms per day. Write a program to calculate how many\n",
    "days will be taken to cover M kms."
   ]
  },
  {
   "cell_type": "code",
   "execution_count": 6,
   "id": "3c1d14b0-dec9-4cbf-a3b5-fc2bcda76142",
   "metadata": {
    "id": "Y0DD7_wrpJMB"
   },
   "outputs": [],
   "source": [
    "def noOfDays(num1,num2):\n",
    "  return num2/num1"
   ]
  },
  {
   "cell_type": "code",
   "execution_count": 8,
   "id": "26036636-cfa8-47d2-91f9-db5b6b40970e",
   "metadata": {
    "colab": {
     "base_uri": "https://localhost:8080/"
    },
    "id": "IF1gTAoFphWs",
    "outputId": "11791926-f0da-462b-922c-44bc47600dfc"
   },
   "outputs": [
    {
     "data": {
      "text/plain": [
       "4.0"
      ]
     },
     "execution_count": 8,
     "metadata": {},
     "output_type": "execute_result"
    }
   ],
   "source": [
    "noOfDays(3,12)"
   ]
  },
  {
   "cell_type": "code",
   "execution_count": 9,
   "id": "0b1bdf1d-22e6-42e8-81b4-5b57a14ba134",
   "metadata": {
    "colab": {
     "base_uri": "https://localhost:8080/"
    },
    "id": "mKIcvSoBpoL_",
    "outputId": "49f2761a-117f-4a82-9453-fdfc4e168a24"
   },
   "outputs": [
    {
     "data": {
      "text/plain": [
       "5.333333333333333"
      ]
     },
     "execution_count": 9,
     "metadata": {},
     "output_type": "execute_result"
    }
   ],
   "source": [
    "noOfDays(3,16)"
   ]
  },
  {
   "cell_type": "markdown",
   "id": "afb29143-e671-4cd6-831d-9fadedce71b7",
   "metadata": {
    "id": "0zBiSdhQg1hz"
   },
   "source": [
    "Q. 4 Create a function that performs division of numbers. Since divide by zero gives an\n",
    "infinite so if a number which is denominator and 0 must give an exception while\n",
    "performing division operation."
   ]
  },
  {
   "cell_type": "code",
   "execution_count": 10,
   "id": "d8bcf46d-4f6f-4ea6-8c86-122306862cdc",
   "metadata": {
    "id": "7Kh_ES1kg8fi"
   },
   "outputs": [],
   "source": [
    "# User defined exception\n",
    "\n",
    "class ZeroNumber(Exception):\n",
    "  def __init__(self,error_msg):\n",
    "    self.error_msg = error_msg\n",
    "  \n",
    "  def showMessage(self):\n",
    "    return self.error_msg\n",
    "\n",
    "def division(num,deno):\n",
    "\n",
    "  numerator = num\n",
    "  denomenator = deno\n",
    "\n",
    "  try:\n",
    "    if denomenator==0:\n",
    "      raise ZeroNumber(\"Denomenator can't be zero in a division operations\")\n",
    "\n",
    "  except ZeroNumber as zero:\n",
    "    print(zero.showMessage())\n",
    "\n",
    "  else:\n",
    "    print(numerator/denomenator)"
   ]
  },
  {
   "cell_type": "code",
   "execution_count": 12,
   "id": "7cbd7e19-334a-4422-a6dc-75ca1069190c",
   "metadata": {
    "colab": {
     "base_uri": "https://localhost:8080/"
    },
    "id": "f65fjwxKi99M",
    "outputId": "04d53cd2-37b9-455c-9297-7d3c907b8429"
   },
   "outputs": [
    {
     "name": "stdout",
     "output_type": "stream",
     "text": [
      "3.0\n"
     ]
    }
   ],
   "source": [
    "division(15,5)"
   ]
  },
  {
   "cell_type": "code",
   "execution_count": 13,
   "id": "ebe693cf-3119-422c-8017-c2604b534e32",
   "metadata": {
    "colab": {
     "base_uri": "https://localhost:8080/"
    },
    "id": "PvxQhDPojCil",
    "outputId": "f0b3a717-b291-44b0-d7f3-72457282883b"
   },
   "outputs": [
    {
     "name": "stdout",
     "output_type": "stream",
     "text": [
      "Denomenator can't be zero in a division operations\n"
     ]
    }
   ],
   "source": [
    "division(4,0)"
   ]
  }
 ],
 "metadata": {
  "kernelspec": {
   "display_name": "Python 3",
   "language": "python",
   "name": "python3"
  },
  "language_info": {
   "codemirror_mode": {
    "name": "ipython",
    "version": 3
   },
   "file_extension": ".py",
   "mimetype": "text/x-python",
   "name": "python",
   "nbconvert_exporter": "python",
   "pygments_lexer": "ipython3",
   "version": "3.6.8"
  }
 },
 "nbformat": 4,
 "nbformat_minor": 5
}
