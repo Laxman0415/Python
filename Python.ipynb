{
 "cells": [
  {
   "cell_type": "markdown",
   "metadata": {
    "id": "PPpfcrSiXzeN"
   },
   "source": [
    "Q.1 Take any value from the user, print “odd” if the value entered is odd and print “even”\n",
    "otherwise."
   ]
  },
  {
   "cell_type": "code",
   "execution_count": 1,
   "metadata": {
    "id": "ij-_LljJX-W2"
   },
   "outputs": [],
   "source": [
    "def evenOdd():\n",
    "  if int(input())%2==0:\n",
    "    print(\"Even\")\n",
    "  else:\n",
    "    print(\"Odd\")"
   ]
  },
  {
   "cell_type": "code",
   "execution_count": 3,
   "metadata": {
    "colab": {
     "base_uri": "https://localhost:8080/"
    },
    "id": "5MjwglIbYb4H",
    "outputId": "8cc54af2-addb-42c2-8d7c-e758aefb6a32"
   },
   "outputs": [
    {
     "name": "stdin",
     "output_type": "stream",
     "text": [
      " 5\n"
     ]
    },
    {
     "name": "stdout",
     "output_type": "stream",
     "text": [
      "Odd\n"
     ]
    }
   ],
   "source": [
    "evenOdd()"
   ]
  },
  {
   "cell_type": "code",
   "execution_count": 4,
   "metadata": {
    "colab": {
     "base_uri": "https://localhost:8080/"
    },
    "id": "tZnKvatOYff4",
    "outputId": "ed6a7e25-be19-4f57-947d-a477cb103233"
   },
   "outputs": [
    {
     "name": "stdin",
     "output_type": "stream",
     "text": [
      " 45454590\n"
     ]
    },
    {
     "name": "stdout",
     "output_type": "stream",
     "text": [
      "Even\n"
     ]
    }
   ],
   "source": [
    "evenOdd()"
   ]
  },
  {
   "cell_type": "markdown",
   "metadata": {
    "id": "Ql40WhblYlWf"
   },
   "source": [
    "Q.2 Take input from the user and check if the number is a complex number. a complex\n",
    "number is the sum of a real number and an imaginary number. For example: 5+2i"
   ]
  },
  {
   "cell_type": "code",
   "execution_count": 5,
   "metadata": {
    "id": "x9yVr2lpliVC"
   },
   "outputs": [],
   "source": [
    "def complexNum(num):\n",
    "  if 'i' in num or 'j' in num:\n",
    "    print(\"Complex number\")\n",
    "  else:\n",
    "    print(\"Not a complex number\")"
   ]
  },
  {
   "cell_type": "code",
   "execution_count": 6,
   "metadata": {
    "colab": {
     "base_uri": "https://localhost:8080/"
    },
    "id": "5QGxVFnglkL8",
    "outputId": "495054ae-16a6-406e-aa3c-bfa5e4e90dbc"
   },
   "outputs": [
    {
     "name": "stdout",
     "output_type": "stream",
     "text": [
      "Complex number\n"
     ]
    }
   ],
   "source": [
    "complexNum('3+4j')"
   ]
  },
  {
   "cell_type": "code",
   "execution_count": 7,
   "metadata": {
    "colab": {
     "base_uri": "https://localhost:8080/"
    },
    "id": "oCnJvExKlpeF",
    "outputId": "30578c9f-26bf-48d2-b793-bb9a4a0434ce"
   },
   "outputs": [
    {
     "name": "stdout",
     "output_type": "stream",
     "text": [
      "Not a complex number\n"
     ]
    }
   ],
   "source": [
    "complexNum(\"4+8\")"
   ]
  },
  {
   "cell_type": "markdown",
   "metadata": {
    "id": "453SVh_olzoT"
   },
   "source": [
    "Q.3 Create a program to enter marks from the user out of 100 and display grades as per\n",
    "the following 90-100 (A), 75 to 90 (B), 60 to 75 (C), 45 to 60 (D), 33 to 45 (E) and\n",
    "remaining all are F."
   ]
  },
  {
   "cell_type": "code",
   "execution_count": 8,
   "metadata": {
    "id": "9L3_-izfl_xb"
   },
   "outputs": [],
   "source": [
    "def findGrades(num):\n",
    "  if 100>num>=90:\n",
    "    return 'A'\n",
    "  elif 90>num>=75:\n",
    "    return 'B'\n",
    "  elif 75>num>=60:\n",
    "    return 'C'\n",
    "  elif 60>num>=45:\n",
    "    return 'D'\n",
    "  elif 45>num>=33:\n",
    "    return 'E'\n",
    "  else:\n",
    "    return 'F'"
   ]
  },
  {
   "cell_type": "code",
   "execution_count": 9,
   "metadata": {
    "colab": {
     "base_uri": "https://localhost:8080/",
     "height": 35
    },
    "id": "f-64pxZFm1Ru",
    "outputId": "d05ef9ae-07b0-470d-aedc-245ce837ab60"
   },
   "outputs": [
    {
     "data": {
      "text/plain": [
       "'A'"
      ]
     },
     "execution_count": 9,
     "metadata": {},
     "output_type": "execute_result"
    }
   ],
   "source": [
    "findGrades(91)"
   ]
  },
  {
   "cell_type": "code",
   "execution_count": 10,
   "metadata": {
    "colab": {
     "base_uri": "https://localhost:8080/",
     "height": 35
    },
    "id": "WNX8yHiqnWv8",
    "outputId": "6b94cc53-f125-423e-b595-89f35c5444a2"
   },
   "outputs": [
    {
     "data": {
      "text/plain": [
       "'D'"
      ]
     },
     "execution_count": 10,
     "metadata": {},
     "output_type": "execute_result"
    }
   ],
   "source": [
    "findGrades(55)"
   ]
  },
  {
   "cell_type": "code",
   "execution_count": 11,
   "metadata": {
    "colab": {
     "base_uri": "https://localhost:8080/",
     "height": 35
    },
    "id": "c1nVtEdLna3c",
    "outputId": "d83eefcd-5dc3-4f51-bd61-324ab8d1351f"
   },
   "outputs": [
    {
     "data": {
      "text/plain": [
       "'F'"
      ]
     },
     "execution_count": 11,
     "metadata": {},
     "output_type": "execute_result"
    }
   ],
   "source": [
    "findGrades(30)"
   ]
  },
  {
   "cell_type": "markdown",
   "metadata": {
    "id": "EL29YQU2nd1B"
   },
   "source": [
    "Q.4 Say three integers have been given. Determine how many of them are equal to each\n",
    "other. Create a program to print 3 (if all 3 are same), 2 (if 2 are same) and 0 (if all\n",
    "numbers are different)"
   ]
  },
  {
   "cell_type": "code",
   "execution_count": 12,
   "metadata": {
    "id": "Wb_s2X_ZnwKk"
   },
   "outputs": [],
   "source": [
    "def Comparator(num1,num2,num3):\n",
    "  if num1==num2==num3:\n",
    "    return 3\n",
    "  elif num1==num2 or num2==num3 or num1==num3:\n",
    "    return 2\n",
    "  else:\n",
    "    return 0"
   ]
  },
  {
   "cell_type": "code",
   "execution_count": 13,
   "metadata": {
    "colab": {
     "base_uri": "https://localhost:8080/"
    },
    "id": "uXw9x8Feo0OU",
    "outputId": "cdbb8310-0207-44e6-b4e0-1fab19aeb8be"
   },
   "outputs": [
    {
     "data": {
      "text/plain": [
       "0"
      ]
     },
     "execution_count": 13,
     "metadata": {},
     "output_type": "execute_result"
    }
   ],
   "source": [
    "Comparator(2,3,4)"
   ]
  },
  {
   "cell_type": "code",
   "execution_count": 14,
   "metadata": {
    "colab": {
     "base_uri": "https://localhost:8080/"
    },
    "id": "GNZkMTyHo4Jl",
    "outputId": "cdf5e88c-977c-4b67-a188-5c23e818e2b2"
   },
   "outputs": [
    {
     "data": {
      "text/plain": [
       "2"
      ]
     },
     "execution_count": 14,
     "metadata": {},
     "output_type": "execute_result"
    }
   ],
   "source": [
    "Comparator(2,3,3)"
   ]
  },
  {
   "cell_type": "code",
   "execution_count": 15,
   "metadata": {
    "colab": {
     "base_uri": "https://localhost:8080/"
    },
    "id": "dlBUgjO7o8Kg",
    "outputId": "0b2dd1cf-5763-4bae-a522-87848a581ffc"
   },
   "outputs": [
    {
     "data": {
      "text/plain": [
       "3"
      ]
     },
     "execution_count": 15,
     "metadata": {},
     "output_type": "execute_result"
    }
   ],
   "source": [
    "Comparator(2,2,2)"
   ]
  },
  {
   "cell_type": "markdown",
   "metadata": {
    "id": "TfSKvcpbpMXN"
   },
   "source": [
    "Q.5 A truck runs a distance of N kms per day. Write a program to calculate how many\n",
    "days will be taken to cover M kms."
   ]
  },
  {
   "cell_type": "code",
   "execution_count": 16,
   "metadata": {
    "id": "Y0DD7_wrpJMB"
   },
   "outputs": [],
   "source": [
    "def noOfDays(num1,num2):\n",
    "  return num2/num1"
   ]
  },
  {
   "cell_type": "code",
   "execution_count": 17,
   "metadata": {
    "colab": {
     "base_uri": "https://localhost:8080/"
    },
    "id": "IF1gTAoFphWs",
    "outputId": "11791926-f0da-462b-922c-44bc47600dfc"
   },
   "outputs": [
    {
     "data": {
      "text/plain": [
       "4.0"
      ]
     },
     "execution_count": 17,
     "metadata": {},
     "output_type": "execute_result"
    }
   ],
   "source": [
    "noOfDays(3,12)"
   ]
  },
  {
   "cell_type": "code",
   "execution_count": 18,
   "metadata": {
    "colab": {
     "base_uri": "https://localhost:8080/"
    },
    "id": "mKIcvSoBpoL_",
    "outputId": "49f2761a-117f-4a82-9453-fdfc4e168a24"
   },
   "outputs": [
    {
     "data": {
      "text/plain": [
       "5.333333333333333"
      ]
     },
     "execution_count": 18,
     "metadata": {},
     "output_type": "execute_result"
    }
   ],
   "source": [
    "noOfDays(3,16)"
   ]
  },
  {
   "cell_type": "markdown",
   "metadata": {
    "id": "0IfaXdUxptc3"
   },
   "source": [
    "Q. 6 Pass your name, surname, phone_no, hobbies in a python script and get all the\n",
    "passed values in a line without space."
   ]
  },
  {
   "cell_type": "code",
   "execution_count": 19,
   "metadata": {
    "colab": {
     "base_uri": "https://localhost:8080/"
    },
    "id": "89q90ygNp8xu",
    "outputId": "7d227811-7f4a-424e-b580-2cba38010e9d"
   },
   "outputs": [
    {
     "name": "stdin",
     "output_type": "stream",
     "text": [
      "Enter your name:  Laxman\n",
      "Enter Your Surname: Singh\n",
      "Enter your phone number 191919191919\n",
      "Enter your hobbies:  mobile game\n"
     ]
    },
    {
     "name": "stdout",
     "output_type": "stream",
     "text": [
      "LaxmanSingh191919191919mobile game\n"
     ]
    }
   ],
   "source": [
    "name = input(\"Enter your name: \")\n",
    "surname = input(\"Enter Your Surname:\")\n",
    "phone_no = int(input(\"Enter your phone number\"))\n",
    "hobbies = input(\"Enter your hobbies: \")\n",
    "print(name,surname,phone_no,hobbies,sep=\"\")"
   ]
  },
  {
   "cell_type": "markdown",
   "metadata": {
    "id": "iwcLVaeg8QV4"
   },
   "source": [
    "Q.7 Write a python script to\n",
    "\n",
    "1.   separate 2,3,6 characters from your ID\n",
    "2.   To print character 2 to 5 in your name and surname.\n",
    "3.   Print all the characters of your name and surname\n",
    "\n"
   ]
  },
  {
   "cell_type": "code",
   "execution_count": 20,
   "metadata": {
    "colab": {
     "base_uri": "https://localhost:8080/"
    },
    "id": "T3QqFfrxqy7O",
    "outputId": "82458179-f148-4d9c-e5a9-dbad081e8c1f"
   },
   "outputs": [
    {
     "name": "stdin",
     "output_type": "stream",
     "text": [
      "Enter you ID:  DIR1234567788\n",
      "Enter your name:  Laxman\n",
      "Enter Your Surname: Singh\n"
     ]
    },
    {
     "name": "stdout",
     "output_type": "stream",
     "text": [
      "ID is DIR1234567788\n",
      "Name is Laxman\n",
      "Surname is Singh\n",
      "2nd,3rd and 6th character from ID: 2nd char I , 3rd char R , 6th char 3\n",
      "character 2 to from 5 in my name is :  axma\n",
      "character 2 to from 5 in my name is :  ingh\n",
      "Printing characters from name:\n",
      "L\n",
      "a\n",
      "x\n",
      "m\n",
      "a\n",
      "n\n",
      "Printing characters from Surname:\n",
      "S\n",
      "i\n",
      "n\n",
      "g\n",
      "h\n"
     ]
    }
   ],
   "source": [
    "id = input(\"Enter you ID: \")\n",
    "name = input(\"Enter your name: \")\n",
    "surname = input(\"Enter Your Surname:\")\n",
    "print(\"ID is {}\\nName is {}\\nSurname is {}\".format(id,name,surname))\n",
    "print(\"2nd,3rd and 6th character from ID: 2nd char {} , 3rd char {} , 6th char {}\".format(id[1],id[2],id[5]))\n",
    "print(\"character 2 to from 5 in my name is : \",name[1:5])\n",
    "print(\"character 2 to from 5 in my name is : \",surname[1:5])\n",
    "print(\"Printing characters from name:\")\n",
    "for char in name:\n",
    "  print(char)\n",
    "  \n",
    "print(\"Printing characters from Surname:\")\n",
    "for char in surname:\n",
    "  print(char)"
   ]
  },
  {
   "cell_type": "markdown",
   "metadata": {},
   "source": [
    "Q. 8 Write your short introduction in a text file. Your introduction consists of Name, Id, contact number, Address, Stream, Joining date, Qualification, Hobbies, Strength and weakness. Pass this file to python. Your task is to calculate total characters, numbers, words and lines used in this introduction file."
   ]
  },
  {
   "cell_type": "code",
   "execution_count": 61,
   "metadata": {},
   "outputs": [
    {
     "name": "stdout",
     "output_type": "stream",
     "text": [
      "Name: Laxman Singh\n",
      "ID: DIRSS3127\n",
      "Contact Number: +917588203478\n",
      "Address: Andheri East Mumbai 400093\n",
      "Stream: Computer Science and Engineering\n",
      "Joining Date: 7th Jan 2022\n",
      "Qualification: B.E CSE\n",
      "Hobbies: Playing Mobile Game\n",
      "Strength: Hardworking\n",
      "Weakness: Saying Yes\n",
      "\n",
      "\n",
      "The results are:\n",
      "Total characters :  261\n",
      "Total Numbers :  27\n",
      "Total Words :  35\n",
      "Total Lines :  10\n"
     ]
    }
   ],
   "source": [
    "with open(\"Intro.txt\",'r') as f:\n",
    "    list_lines=f.readlines()\n",
    "f.close()\n",
    "with open(\"Intro.txt\",'r') as f1:\n",
    "    print(f1.read())\n",
    "f1.close()\n",
    "total_char = 0\n",
    "total_num = 0\n",
    "total_words = 0\n",
    "for line in list_lines:\n",
    "    total_char+= len(line)\n",
    "    for char in line:\n",
    "        if char.isnumeric():\n",
    "            total_num+=1\n",
    "    total_words+= len(line.split())\n",
    "    \n",
    "print(\"\\n\\nThe results are:\")  \n",
    "print(\"Total characters : \",str(total_char))\n",
    "print(\"Total Numbers : \",str(total_num))\n",
    "print(\"Total Words : \",str(total_words))\n",
    "print(\"Total Lines : \",str(len(list_lines)))"
   ]
  },
  {
   "cell_type": "markdown",
   "metadata": {
    "id": "0zBiSdhQg1hz"
   },
   "source": [
    "Q. 9 Create a function that performs division of numbers. Since divide by zero gives an\n",
    "infinite so if a number which is denominator and 0 must give an exception while\n",
    "performing division operation."
   ]
  },
  {
   "cell_type": "code",
   "execution_count": 21,
   "metadata": {
    "id": "7Kh_ES1kg8fi"
   },
   "outputs": [],
   "source": [
    "# User defined exception\n",
    "\n",
    "class ZeroNumber(Exception):\n",
    "  def __init__(self,error_msg):\n",
    "    self.error_msg = error_msg\n",
    "  \n",
    "  def showMessage(self):\n",
    "    return self.error_msg\n",
    "\n",
    "def division(num,deno):\n",
    "\n",
    "  numerator = num\n",
    "  denomenator = deno\n",
    "\n",
    "  try:\n",
    "    if denomenator==0:\n",
    "      raise ZeroNumber(\"Denomenator can't be zero in a division operations\")\n",
    "\n",
    "  except ZeroNumber as zero:\n",
    "    print(zero.showMessage())\n",
    "\n",
    "  else:\n",
    "    print(numerator/denomenator)"
   ]
  },
  {
   "cell_type": "code",
   "execution_count": 24,
   "metadata": {
    "colab": {
     "base_uri": "https://localhost:8080/"
    },
    "id": "f65fjwxKi99M",
    "outputId": "04d53cd2-37b9-455c-9297-7d3c907b8429"
   },
   "outputs": [
    {
     "name": "stdout",
     "output_type": "stream",
     "text": [
      "3.0\n"
     ]
    }
   ],
   "source": [
    "division(15,5)"
   ]
  },
  {
   "cell_type": "code",
   "execution_count": 25,
   "metadata": {
    "colab": {
     "base_uri": "https://localhost:8080/"
    },
    "id": "PvxQhDPojCil",
    "outputId": "f0b3a717-b291-44b0-d7f3-72457282883b"
   },
   "outputs": [
    {
     "name": "stdout",
     "output_type": "stream",
     "text": [
      "Denomenator can't be zero in a division operations\n"
     ]
    }
   ],
   "source": [
    "division(4,0)"
   ]
  },
  {
   "cell_type": "markdown",
   "metadata": {},
   "source": [
    "Q.10 Create a file in read only mode. Open this file using python and try to write your contact number in that file. As this file is write protected so an exception should occur. Handle this exception using python script."
   ]
  },
  {
   "cell_type": "code",
   "execution_count": 70,
   "metadata": {},
   "outputs": [
    {
     "name": "stdout",
     "output_type": "stream",
     "text": [
      "Exception will be raised as File is write protected\n"
     ]
    }
   ],
   "source": [
    "# User defined exceptions\n",
    "\n",
    "class FileInReadModeError(Exception):\n",
    "    \n",
    "    def __init__(self,msg):\n",
    "        self.msg = msg\n",
    "    def ViewMessage(self):\n",
    "        return self.msg\n",
    "    \n",
    "f_read = open(\"random.txt\",'r')\n",
    "try:\n",
    "    if f_read.mode == 'r':\n",
    "        raise FileInReadModeError(\"Exception will be raised as File is write protected\")\n",
    "except FileInReadModeError as rd:\n",
    "    print(rd.ViewMessage())\n",
    "else:\n",
    "    f_read.write(\"+917588203478\")\n",
    "    \n",
    "f_read.close()"
   ]
  },
  {
   "cell_type": "markdown",
   "metadata": {
    "id": "p-LiTccuCn-p"
   },
   "source": [
    "Q.11 Create an html generator using:\n",
    "1.   A base class with a couple methods\n",
    "2.   Subclass overriding class attributes\n",
    "3.   Subclass overriding a method\n",
    "4.   Subclass overriding the ___init__"
   ]
  },
  {
   "cell_type": "code",
   "execution_count": 27,
   "metadata": {
    "id": "v8AJWei4Ld8O"
   },
   "outputs": [],
   "source": [
    "#Base class\n",
    "class Rectangle: \n",
    "  def __init__(self,l,b): \n",
    "    self.len=l \n",
    "    self.width=b\n",
    "\n",
    "  def display(self):\n",
    "    print(\"Length is : {} and width is :  {}\".format(str(self.len),str(self.width)))\n",
    "\n",
    "  def perimeter(self): \n",
    "    return 2*(self.len+self.width)\n",
    "\n",
    "  def area(self): \n",
    "    return self.len*self.width"
   ]
  },
  {
   "cell_type": "code",
   "execution_count": 28,
   "metadata": {
    "colab": {
     "base_uri": "https://localhost:8080/"
    },
    "id": "QsSylawVLvtz",
    "outputId": "351e8a52-d91a-4855-a9aa-f6e8ea6b1329"
   },
   "outputs": [
    {
     "name": "stdout",
     "output_type": "stream",
     "text": [
      "Perimeter is :14\n",
      "Area is :12\n",
      "All attributes : \n",
      "Length is : 3 and width is :  4\n"
     ]
    }
   ],
   "source": [
    "obj_rect = Rectangle(3,4)\n",
    "print(\"Perimeter is :\"+str(obj_rect.perimeter()))\n",
    "print(\"Area is :\"+str(obj_rect.area()))\n",
    "print(\"All attributes : \")\n",
    "obj_rect.display()\n"
   ]
  },
  {
   "cell_type": "code",
   "execution_count": 29,
   "metadata": {
    "colab": {
     "base_uri": "https://localhost:8080/"
    },
    "id": "O0Wu6PrIcaND",
    "outputId": "3368781c-b8fc-4986-e2b6-931e8435a86e"
   },
   "outputs": [
    {
     "data": {
      "text/plain": [
       "3"
      ]
     },
     "execution_count": 29,
     "metadata": {},
     "output_type": "execute_result"
    }
   ],
   "source": [
    "obj_rect.len"
   ]
  },
  {
   "cell_type": "code",
   "execution_count": 30,
   "metadata": {
    "id": "mNAOCb6BOUzZ"
   },
   "outputs": [],
   "source": [
    "# Derived Class\n",
    "class Triangle(Rectangle):\n",
    "  def __init__(self,l,b):\n",
    "    super().__init__(l,b)\n",
    "\n",
    "  def display(self):\n",
    "    super().display()\n",
    "\n",
    "  def area(self):\n",
    "    return 1.76*self.len*self.width/2"
   ]
  },
  {
   "cell_type": "code",
   "execution_count": 31,
   "metadata": {
    "colab": {
     "base_uri": "https://localhost:8080/"
    },
    "id": "EzVdwSzmbR1s",
    "outputId": "b7eb7244-c050-4fc8-a017-82bcc8ef860d"
   },
   "outputs": [
    {
     "name": "stdout",
     "output_type": "stream",
     "text": [
      "Area is :47.52\n",
      "All attributes : \n",
      "Length is : 6 and width is :  9\n"
     ]
    }
   ],
   "source": [
    "obj_tr = Triangle(6,9)\n",
    "print(\"Area is :\"+str(obj_tr.area()))\n",
    "print(\"All attributes : \")\n",
    "obj_tr.display()"
   ]
  },
  {
   "cell_type": "markdown",
   "metadata": {
    "id": "VqTePCOBIqIN"
   },
   "source": [
    "Q.12 Create an html generator using:\n",
    "1.   A base class with a couple methods\n",
    "2.   Subclass overriding class attributes\n",
    "3.   Subclass overriding a method\n",
    "4.   Subclass overriding the ___init__"
   ]
  },
  {
   "cell_type": "code",
   "execution_count": 32,
   "metadata": {
    "id": "RQvg7oAFItFT"
   },
   "outputs": [],
   "source": [
    "# Base class\n",
    "class Car:\n",
    "  def __init__(self,no_of_light,no_of_tires):\n",
    "    self.lights = no_of_light\n",
    "    self.tires = no_of_tires\n",
    "\n",
    "  def display(self):\n",
    "    print(\"I have {} lights\".format(self.lights))\n",
    "    print(\"I have {} tires\".format(self.tires))\n",
    "\n",
    "  def details(self):\n",
    "    print(\"I can carry 6 people\")\n"
   ]
  },
  {
   "cell_type": "code",
   "execution_count": 33,
   "metadata": {
    "colab": {
     "base_uri": "https://localhost:8080/"
    },
    "id": "pV2sXErKfgLU",
    "outputId": "fd374c87-2398-4d74-eb8f-b83e78dcf634"
   },
   "outputs": [
    {
     "name": "stdout",
     "output_type": "stream",
     "text": [
      "I have 4 lights\n",
      "I have 4 tires\n",
      "I can carry 6 people\n"
     ]
    }
   ],
   "source": [
    "obj_car = Car(4,4)\n",
    "obj_car.display()\n",
    "obj_car.details()"
   ]
  },
  {
   "cell_type": "code",
   "execution_count": 34,
   "metadata": {
    "id": "A73fAQMFfsYA"
   },
   "outputs": [],
   "source": [
    "class Scooter(Car):\n",
    "  def __init__(self,light,tires):\n",
    "    super().__init__(light,tires)\n",
    "\n",
    "  def display(self):\n",
    "    super().display()\n",
    "\n",
    "  def details(self):\n",
    "    print(\"I can carry 2 people\")"
   ]
  },
  {
   "cell_type": "code",
   "execution_count": 35,
   "metadata": {
    "colab": {
     "base_uri": "https://localhost:8080/"
    },
    "id": "tPdNuFC9gFxB",
    "outputId": "cbe7ee37-4f0e-4cef-9c47-919a04aa9edc"
   },
   "outputs": [
    {
     "name": "stdout",
     "output_type": "stream",
     "text": [
      "I have 2 lights\n",
      "I have 2 tires\n",
      "I can carry 2 people\n"
     ]
    }
   ],
   "source": [
    "obj_sc = Scooter(2,2)\n",
    "obj_sc.display()\n",
    "obj_sc.details()"
   ]
  }
 ],
 "metadata": {
  "colab": {
   "collapsed_sections": [],
   "name": "Python.ipynb",
   "provenance": []
  },
  "kernelspec": {
   "display_name": "Python 3",
   "language": "python",
   "name": "python3"
  },
  "language_info": {
   "codemirror_mode": {
    "name": "ipython",
    "version": 3
   },
   "file_extension": ".py",
   "mimetype": "text/x-python",
   "name": "python",
   "nbconvert_exporter": "python",
   "pygments_lexer": "ipython3",
   "version": "3.6.8"
  }
 },
 "nbformat": 4,
 "nbformat_minor": 4
}
