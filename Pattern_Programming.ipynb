{
  "nbformat": 4,
  "nbformat_minor": 0,
  "metadata": {
    "colab": {
      "name": "Pattern Programming.ipynb",
      "provenance": [],
      "collapsed_sections": []
    },
    "kernelspec": {
      "name": "python3",
      "display_name": "Python 3"
    },
    "language_info": {
      "name": "python"
    }
  },
  "cells": [
    {
      "cell_type": "markdown",
      "source": [
        "## Q.1 "
      ],
      "metadata": {
        "id": "ZUSKFepH-a4e"
      }
    },
    {
      "cell_type": "code",
      "source": [
        "n = int(input())\n",
        "for i in range(n):\n",
        "  print(\"5 \"*(n-i))"
      ],
      "metadata": {
        "colab": {
          "base_uri": "https://localhost:8080/"
        },
        "id": "DYQhjx2i-fCp",
        "outputId": "679fc342-2f14-4819-b9aa-4797a8d9b0dd"
      },
      "execution_count": 57,
      "outputs": [
        {
          "output_type": "stream",
          "name": "stdout",
          "text": [
            "7\n",
            "5 5 5 5 5 5 5 \n",
            "5 5 5 5 5 5 \n",
            "5 5 5 5 5 \n",
            "5 5 5 5 \n",
            "5 5 5 \n",
            "5 5 \n",
            "5 \n"
          ]
        }
      ]
    },
    {
      "cell_type": "code",
      "source": [
        "# Not as expected\n",
        "n = int(input())\n",
        "for i in range(n):\n",
        "  print(\"5--\"*(n-i))"
      ],
      "metadata": {
        "colab": {
          "base_uri": "https://localhost:8080/"
        },
        "id": "shQLw9EqJuUK",
        "outputId": "6277fe87-be2c-4a94-e4e0-3af3fd0aa35f"
      },
      "execution_count": 58,
      "outputs": [
        {
          "output_type": "stream",
          "name": "stdout",
          "text": [
            "8\n",
            "5--5--5--5--5--5--5--5--\n",
            "5--5--5--5--5--5--5--\n",
            "5--5--5--5--5--5--\n",
            "5--5--5--5--5--\n",
            "5--5--5--5--\n",
            "5--5--5--\n",
            "5--5--\n",
            "5--\n"
          ]
        }
      ]
    },
    {
      "cell_type": "code",
      "source": [
        "# Verified\n",
        "\n",
        "n = int(input())\n",
        "for i in range(n):\n",
        "  print(\"5\",end=\"\")\n",
        "  print(\"--5\"*(n-i-1))"
      ],
      "metadata": {
        "colab": {
          "base_uri": "https://localhost:8080/"
        },
        "id": "K-Qzm21dJ9n4",
        "outputId": "f0ed6a06-db71-4ce2-e44c-9c4dc79ecad9"
      },
      "execution_count": 39,
      "outputs": [
        {
          "output_type": "stream",
          "name": "stdout",
          "text": [
            "5\n",
            "5--5--5--5--5\n",
            "5--5--5--5\n",
            "5--5--5\n",
            "5--5\n",
            "5\n"
          ]
        }
      ]
    },
    {
      "cell_type": "code",
      "source": [
        "# Expected one\n",
        "\n",
        "n = int(input())\n",
        "for i in range(n):\n",
        "  print(\"5\",end=\"\")\n",
        "  print(\" 5\"*(n-i-1))"
      ],
      "metadata": {
        "colab": {
          "base_uri": "https://localhost:8080/"
        },
        "id": "8AffX5ESMFLz",
        "outputId": "7bf6a6d6-5714-4ebd-a707-a5275cea6002"
      },
      "execution_count": 40,
      "outputs": [
        {
          "output_type": "stream",
          "name": "stdout",
          "text": [
            "5\n",
            "5 5 5 5 5\n",
            "5 5 5 5\n",
            "5 5 5\n",
            "5 5\n",
            "5\n"
          ]
        }
      ]
    },
    {
      "cell_type": "markdown",
      "source": [
        "## Q.2 "
      ],
      "metadata": {
        "id": "J1XDrrrX_tXw"
      }
    },
    {
      "cell_type": "code",
      "source": [
        "# Verified\n",
        "n = int(input())\n",
        "for i in range(n):\n",
        "  print(\"0\",end=\"\")\n",
        "  for j in range(n-i):\n",
        "    print(\"--\"+str(j+1),end=\"\")\n",
        "  print()"
      ],
      "metadata": {
        "colab": {
          "base_uri": "https://localhost:8080/"
        },
        "id": "6BAS7kGcKRoK",
        "outputId": "71bdbba5-f102-4bfc-c77c-d95c70d11431"
      },
      "execution_count": 44,
      "outputs": [
        {
          "output_type": "stream",
          "name": "stdout",
          "text": [
            "6\n",
            "0--1--2--3--4--5--6\n",
            "0--1--2--3--4--5\n",
            "0--1--2--3--4\n",
            "0--1--2--3\n",
            "0--1--2\n",
            "0--1\n"
          ]
        }
      ]
    },
    {
      "cell_type": "code",
      "source": [
        "# Expected one\n",
        "\n",
        "n = int(input())\n",
        "for i in range(n):\n",
        "  print(\"0\",end=\"\")\n",
        "  for j in range(n-i):\n",
        "    print(\" \"+str(j+1),end=\"\")\n",
        "  print()\n"
      ],
      "metadata": {
        "colab": {
          "base_uri": "https://localhost:8080/"
        },
        "id": "x4ib0c5FMJn9",
        "outputId": "cda275cb-df8d-4816-b8e2-03d0d66d0e8f"
      },
      "execution_count": 45,
      "outputs": [
        {
          "output_type": "stream",
          "name": "stdout",
          "text": [
            "6\n",
            "0 1 2 3 4 5 6\n",
            "0 1 2 3 4 5\n",
            "0 1 2 3 4\n",
            "0 1 2 3\n",
            "0 1 2\n",
            "0 1\n"
          ]
        }
      ]
    },
    {
      "cell_type": "markdown",
      "source": [
        "## Q.3 "
      ],
      "metadata": {
        "id": "T9a9xlfnBygd"
      }
    },
    {
      "cell_type": "code",
      "source": [
        "# Verified\n",
        "n = int(input())\n",
        "for i in range(n):\n",
        "  if i==0:\n",
        "    print(i+i+1)\n",
        "  else:\n",
        "    print(i+i+1,end=\"\")\n",
        "    freq = i+i+1\n",
        "    print(f\"--{freq}\"*i)"
      ],
      "metadata": {
        "colab": {
          "base_uri": "https://localhost:8080/"
        },
        "id": "E5LmoxueB1P7",
        "outputId": "d6a0c9b6-652b-41f0-c1a8-1bd96058aa84"
      },
      "execution_count": 46,
      "outputs": [
        {
          "output_type": "stream",
          "name": "stdout",
          "text": [
            "5\n",
            "1\n",
            "3--3\n",
            "5--5--5\n",
            "7--7--7--7\n",
            "9--9--9--9--9\n"
          ]
        }
      ]
    },
    {
      "cell_type": "code",
      "source": [
        "# Expected one\n",
        "n = int(input())\n",
        "for i in range(n):\n",
        "  if i==0:\n",
        "    print(i+i+1)\n",
        "  else:\n",
        "    print(i+i+1,end=\"\")\n",
        "    freq = i+i+1\n",
        "    print(f\" {freq}\"*i)"
      ],
      "metadata": {
        "colab": {
          "base_uri": "https://localhost:8080/"
        },
        "id": "92iiVXl0MPBW",
        "outputId": "c5a7936c-bc87-4a8c-dc8a-6912d5876148"
      },
      "execution_count": 47,
      "outputs": [
        {
          "output_type": "stream",
          "name": "stdout",
          "text": [
            "5\n",
            "1\n",
            "3 3\n",
            "5 5 5\n",
            "7 7 7 7\n",
            "9 9 9 9 9\n"
          ]
        }
      ]
    },
    {
      "cell_type": "markdown",
      "source": [
        "## Q.4 "
      ],
      "metadata": {
        "id": "9Js28BLaFIz0"
      }
    },
    {
      "cell_type": "code",
      "source": [
        "# Verified\n",
        "\n",
        "n = int(input())\n",
        "for i in range(n):\n",
        "  for j in range(i+1,0,-1):\n",
        "    if j==i+1:\n",
        "      print(j,end=\"\")\n",
        "    else:\n",
        "      print(\"--\"+str(j),end=\"\")\n",
        "  print()\n",
        "\n"
      ],
      "metadata": {
        "colab": {
          "base_uri": "https://localhost:8080/"
        },
        "id": "N8Y8qyTxFLJr",
        "outputId": "0a221153-a617-4595-b1c4-3843b6556bca"
      },
      "execution_count": 48,
      "outputs": [
        {
          "output_type": "stream",
          "name": "stdout",
          "text": [
            "5\n",
            "1\n",
            "2--1\n",
            "3--2--1\n",
            "4--3--2--1\n",
            "5--4--3--2--1\n"
          ]
        }
      ]
    },
    {
      "cell_type": "code",
      "source": [
        "# Expected one\n",
        "\n",
        "n = int(input())\n",
        "for i in range(n):\n",
        "  for j in range(i+1,0,-1):\n",
        "    if j==i+1:\n",
        "      print(j,end=\"\")\n",
        "    else:\n",
        "      print(\" \"+str(j),end=\"\")\n",
        "  print()\n",
        "\n"
      ],
      "metadata": {
        "colab": {
          "base_uri": "https://localhost:8080/"
        },
        "id": "QZ8gGWmnMZGE",
        "outputId": "08bc4f51-d1a7-48d1-daa6-47a3136194d3"
      },
      "execution_count": 49,
      "outputs": [
        {
          "output_type": "stream",
          "name": "stdout",
          "text": [
            "8\n",
            "1\n",
            "2 1\n",
            "3 2 1\n",
            "4 3 2 1\n",
            "5 4 3 2 1\n",
            "6 5 4 3 2 1\n",
            "7 6 5 4 3 2 1\n",
            "8 7 6 5 4 3 2 1\n"
          ]
        }
      ]
    },
    {
      "cell_type": "markdown",
      "source": [
        "## Q. 5"
      ],
      "metadata": {
        "id": "mmOj4NaAzQvF"
      }
    },
    {
      "cell_type": "code",
      "source": [
        "# With separator as -\n",
        "\n",
        "n = int(input())\n",
        "print(\"\\n\\n\")\n",
        "k=1\n",
        "for i in range(1,n+1):\n",
        "  print(k,end=\"\")\n",
        "  b=k\n",
        "  for j in range(1,i):\n",
        "    print(\"-\"+str(b-1),end=\"\")\n",
        "    b-=1\n",
        "  print()\n",
        "  k+=i+1"
      ],
      "metadata": {
        "colab": {
          "base_uri": "https://localhost:8080/"
        },
        "id": "7TLmQ7l5zZ_8",
        "outputId": "425bd0e1-2b59-46a0-8c89-6492339700c3"
      },
      "execution_count": 50,
      "outputs": [
        {
          "output_type": "stream",
          "name": "stdout",
          "text": [
            "7\n",
            "\n",
            "\n",
            "\n",
            "1\n",
            "3-2\n",
            "6-5-4\n",
            "10-9-8-7\n",
            "15-14-13-12-11\n",
            "21-20-19-18-17-16\n",
            "28-27-26-25-24-23-22\n"
          ]
        }
      ]
    },
    {
      "cell_type": "code",
      "source": [
        "# With separator as a space\n",
        "\n",
        "n = int(input())\n",
        "print(\"\\n\\n\")\n",
        "k=1\n",
        "for i in range(1,n+1):\n",
        "  print(k,end=\"\")\n",
        "  b=k\n",
        "  for j in range(1,i):\n",
        "    print(\" \"+str(b-1),end=\"\")\n",
        "    b-=1\n",
        "  print()\n",
        "  k+=i+1"
      ],
      "metadata": {
        "colab": {
          "base_uri": "https://localhost:8080/"
        },
        "id": "22gMHYrp3pmy",
        "outputId": "e42e9d08-2341-4146-ff56-3ba0f0aa1d47"
      },
      "execution_count": 51,
      "outputs": [
        {
          "output_type": "stream",
          "name": "stdout",
          "text": [
            "8\n",
            "\n",
            "\n",
            "\n",
            "1\n",
            "3 2\n",
            "6 5 4\n",
            "10 9 8 7\n",
            "15 14 13 12 11\n",
            "21 20 19 18 17 16\n",
            "28 27 26 25 24 23 22\n",
            "36 35 34 33 32 31 30 29\n"
          ]
        }
      ]
    },
    {
      "cell_type": "markdown",
      "source": [
        "## Q. 6"
      ],
      "metadata": {
        "id": "_hL4IdnyzREU"
      }
    },
    {
      "cell_type": "code",
      "source": [
        "# With separator as -\n",
        "\n",
        "n = int(input())\n",
        "print(\"\\n\\n\")\n",
        "for i in range(1,n+1):\n",
        "  k=1  \n",
        "  for j in range(1,i+1):\n",
        "    if j==1:\n",
        "      print(k,end=\"\")\n",
        "    else:\n",
        "      print(\"--\"+str(k),end=\"\")\n",
        "    k=k*(i-j)//j\n",
        "  print()"
      ],
      "metadata": {
        "id": "qKHh_jPczaqk",
        "colab": {
          "base_uri": "https://localhost:8080/"
        },
        "outputId": "fb41ab9f-3c68-4e4f-aa35-74beac5b9f40"
      },
      "execution_count": 52,
      "outputs": [
        {
          "output_type": "stream",
          "name": "stdout",
          "text": [
            "6\n",
            "\n",
            "\n",
            "\n",
            "1\n",
            "1--1\n",
            "1--2--1\n",
            "1--3--3--1\n",
            "1--4--6--4--1\n",
            "1--5--10--10--5--1\n"
          ]
        }
      ]
    },
    {
      "cell_type": "code",
      "source": [
        "6# With separator as -\n",
        "\n",
        "n = int(input())\n",
        "print(\"\\n\\n\")\n",
        "for i in range(1,n+1):\n",
        "  k=1  \n",
        "  for j in range(1,i+1):\n",
        "    if j==1:\n",
        "      print(k,end=\"\")\n",
        "    else:\n",
        "      print(\" \"+str(k),end=\"\")\n",
        "    k=k*(i-j)//j\n",
        "  print()"
      ],
      "metadata": {
        "colab": {
          "base_uri": "https://localhost:8080/"
        },
        "id": "RGPWVsPqJqh7",
        "outputId": "652f726c-2c05-4ad2-945c-c28f6e7677d3"
      },
      "execution_count": 53,
      "outputs": [
        {
          "output_type": "stream",
          "name": "stdout",
          "text": [
            "5\n",
            "\n",
            "\n",
            "\n",
            "1\n",
            "1 1\n",
            "1 2 1\n",
            "1 3 3 1\n",
            "1 4 6 4 1\n"
          ]
        }
      ]
    },
    {
      "cell_type": "markdown",
      "source": [
        "## Q. 7"
      ],
      "metadata": {
        "id": "mS229Mtvx9hL"
      }
    },
    {
      "cell_type": "code",
      "source": [
        "# With separator as -\n",
        "\n",
        "n = int(input())\n",
        "print(\"\\n\\n\")\n",
        "for i in range(1,n+1):\n",
        "  print(i,end=\"\")\n",
        "  print(f\"-{i}\"*(i-1),end=\"\")\n",
        "  for j in range(i+1,n+1):\n",
        "    print(\"-\"+str(j),end=\"\")\n",
        "  print()   "
      ],
      "metadata": {
        "colab": {
          "base_uri": "https://localhost:8080/"
        },
        "id": "XqWGh269yDYw",
        "outputId": "f5e09291-2c48-4a93-a052-90bd3b9112a4"
      },
      "execution_count": 54,
      "outputs": [
        {
          "output_type": "stream",
          "name": "stdout",
          "text": [
            "5\n",
            "\n",
            "\n",
            "\n",
            "1-2-3-4-5\n",
            "2-2-3-4-5\n",
            "3-3-3-4-5\n",
            "4-4-4-4-5\n",
            "5-5-5-5-5\n"
          ]
        }
      ]
    },
    {
      "cell_type": "code",
      "source": [
        "# With separator as space\n",
        "\n",
        "n = int(input())\n",
        "print(\"\\n\\n\")\n",
        "for i in range(1,n+1):\n",
        "  print(i,end=\"\")\n",
        "  print(f\" {i}\"*(i-1),end=\"\")\n",
        "  for j in range(i+1,n+1):\n",
        "    print(\" \"+str(j),end=\"\")\n",
        "  print()   "
      ],
      "metadata": {
        "colab": {
          "base_uri": "https://localhost:8080/"
        },
        "id": "H_qX0q8azDbm",
        "outputId": "dd7f0267-4764-4056-a027-6c752d620f02"
      },
      "execution_count": 55,
      "outputs": [
        {
          "output_type": "stream",
          "name": "stdout",
          "text": [
            "6\n",
            "\n",
            "\n",
            "\n",
            "1 2 3 4 5 6\n",
            "2 2 3 4 5 6\n",
            "3 3 3 4 5 6\n",
            "4 4 4 4 5 6\n",
            "5 5 5 5 5 6\n",
            "6 6 6 6 6 6\n"
          ]
        }
      ]
    },
    {
      "cell_type": "markdown",
      "source": [
        "## Q.8"
      ],
      "metadata": {
        "id": "-oIfzJvPXThs"
      }
    },
    {
      "cell_type": "code",
      "source": [
        "# With -- as separator\n",
        "\n",
        "n = int(input())\n",
        "for i in range(1,n+1):\n",
        "  print(i,end=\"\")\n",
        "  for j in range(2,i+1):\n",
        "      print(\"--\"+str(i*j),end=\"\")\n",
        "  print()"
      ],
      "metadata": {
        "colab": {
          "base_uri": "https://localhost:8080/"
        },
        "id": "Q9Vp1b8GXaeE",
        "outputId": "0707bdff-1abe-4a06-a043-fee5dd04bbbf"
      },
      "execution_count": 56,
      "outputs": [
        {
          "output_type": "stream",
          "name": "stdout",
          "text": [
            "6\n",
            "1\n",
            "2--4\n",
            "3--6--9\n",
            "4--8--12--16\n",
            "5--10--15--20--25\n",
            "6--12--18--24--30--36\n"
          ]
        }
      ]
    },
    {
      "cell_type": "code",
      "source": [
        "# With a space as separator\n",
        "\n",
        "n = int(input())\n",
        "for i in range(1,n+1):\n",
        "  print(i,end=\"\")\n",
        "  for j in range(2,i+1):\n",
        "      print(\" \"+str(i*j),end=\"\")\n",
        "  print()"
      ],
      "metadata": {
        "colab": {
          "base_uri": "https://localhost:8080/"
        },
        "id": "fOe-XcqYbBJJ",
        "outputId": "a10547d0-5273-4397-d37d-fdc7b6afe41a"
      },
      "execution_count": 22,
      "outputs": [
        {
          "output_type": "stream",
          "name": "stdout",
          "text": [
            "8\n",
            "1\n",
            "2 4\n",
            "3 6 9\n",
            "4 8 12 16\n",
            "5 10 15 20 25\n",
            "6 12 18 24 30 36\n",
            "7 14 21 28 35 42 49\n",
            "8 16 24 32 40 48 56 64\n"
          ]
        }
      ]
    },
    {
      "cell_type": "markdown",
      "source": [
        "## Q. 9"
      ],
      "metadata": {
        "id": "tZDTtc24bV7K"
      }
    },
    {
      "cell_type": "code",
      "source": [
        "# With separator - \n",
        "\n",
        "n = int(input())\n",
        "for i in range(1,n+1):\n",
        "  print(\"-\"*(i-1),end=\"\")\n",
        "  print(\"*\",end=\"\")\n",
        "  print(\"-*\"*(n-i),end=\"\")\n",
        "  print(\"-\"*(i-1),end=\"\")\n",
        "  print()"
      ],
      "metadata": {
        "colab": {
          "base_uri": "https://localhost:8080/"
        },
        "id": "5bQRyRUPe7Ux",
        "outputId": "c0206914-134a-4c46-c0d1-945a1cb649f7"
      },
      "execution_count": 23,
      "outputs": [
        {
          "output_type": "stream",
          "name": "stdout",
          "text": [
            "6\n",
            "*-*-*-*-*-*\n",
            "-*-*-*-*-*-\n",
            "--*-*-*-*--\n",
            "---*-*-*---\n",
            "----*-*----\n",
            "-----*-----\n"
          ]
        }
      ]
    },
    {
      "cell_type": "code",
      "source": [
        "# With separator space \n",
        "\n",
        "n = int(input())\n",
        "for i in range(1,n+1):\n",
        "  print(\" \"*(i-1),end=\"\")\n",
        "  print(\"*\",end=\"\")\n",
        "  print(\" *\"*(n-i),end=\"\")\n",
        "  print(\" \"*(i-1),end=\"\")\n",
        "  print()"
      ],
      "metadata": {
        "colab": {
          "base_uri": "https://localhost:8080/"
        },
        "id": "m5NzaN6ghQjq",
        "outputId": "a78bf180-c4f3-475b-a5e2-074b2cf17eec"
      },
      "execution_count": 24,
      "outputs": [
        {
          "output_type": "stream",
          "name": "stdout",
          "text": [
            "7\n",
            "* * * * * * *\n",
            " * * * * * * \n",
            "  * * * * *  \n",
            "   * * * *   \n",
            "    * * *    \n",
            "     * *     \n",
            "      *      \n"
          ]
        }
      ]
    },
    {
      "cell_type": "markdown",
      "source": [
        "## Q.10 "
      ],
      "metadata": {
        "id": "wNccrjz9hl_I"
      }
    },
    {
      "cell_type": "code",
      "source": [
        "# With separator - \n",
        "\n",
        "n = int(input())\n",
        "for i in range(1,n+1):\n",
        "  print(\"-\"*(n-i),end=\"\")\n",
        "  print(\"*\",end=\"\")\n",
        "  print(\"-*\"*(i-1),end=\"\")\n",
        "  print(\"-\"*(n-i),end=\"\")\n",
        "  print()"
      ],
      "metadata": {
        "colab": {
          "base_uri": "https://localhost:8080/"
        },
        "id": "KK22-kiHhoVJ",
        "outputId": "5bd2e29f-4a40-45d7-e2d4-acf9d68058d6"
      },
      "execution_count": 25,
      "outputs": [
        {
          "output_type": "stream",
          "name": "stdout",
          "text": [
            "8\n",
            "-------*-------\n",
            "------*-*------\n",
            "-----*-*-*-----\n",
            "----*-*-*-*----\n",
            "---*-*-*-*-*---\n",
            "--*-*-*-*-*-*--\n",
            "-*-*-*-*-*-*-*-\n",
            "*-*-*-*-*-*-*-*\n"
          ]
        }
      ]
    },
    {
      "cell_type": "code",
      "source": [
        "# With separator space \n",
        "\n",
        "n = int(input())\n",
        "for i in range(1,n+1):\n",
        "  print(\" \"*(n-i),end=\"\")\n",
        "  print(\"*\",end=\"\")\n",
        "  print(\" *\"*(i-1),end=\"\")\n",
        "  print(\" \"*(n-i),end=\"\")\n",
        "  print()"
      ],
      "metadata": {
        "colab": {
          "base_uri": "https://localhost:8080/"
        },
        "id": "e2nC9vhajFG7",
        "outputId": "31f0ba50-8d56-4705-8331-5d5e28adabc5"
      },
      "execution_count": 27,
      "outputs": [
        {
          "output_type": "stream",
          "name": "stdout",
          "text": [
            "8\n",
            "       *       \n",
            "      * *      \n",
            "     * * *     \n",
            "    * * * *    \n",
            "   * * * * *   \n",
            "  * * * * * *  \n",
            " * * * * * * * \n",
            "* * * * * * * *\n"
          ]
        }
      ]
    },
    {
      "cell_type": "markdown",
      "source": [
        "## Q.11"
      ],
      "metadata": {
        "id": "zbv_aRfkjMsE"
      }
    },
    {
      "cell_type": "code",
      "source": [
        "# With separator - \n",
        "\n",
        "n = int(input())\n",
        "for i in range(1,n+1):\n",
        "  print(\"*\",end=\"\")\n",
        "  print(\"-*\"*(i-1))\n",
        "else:\n",
        "  b=2*n-1\n",
        "  print(\"-\"*b)\n",
        "  for i in range(1,n+1):\n",
        "    print(\"*\",end=\"\")\n",
        "    print(\"-*\"*(n-i))\n",
        "\n"
      ],
      "metadata": {
        "colab": {
          "base_uri": "https://localhost:8080/"
        },
        "id": "MPGK3OeikH75",
        "outputId": "ac1fac74-58d6-4593-81e7-504f27b3fa43"
      },
      "execution_count": 28,
      "outputs": [
        {
          "output_type": "stream",
          "name": "stdout",
          "text": [
            "8\n",
            "*\n",
            "*-*\n",
            "*-*-*\n",
            "*-*-*-*\n",
            "*-*-*-*-*\n",
            "*-*-*-*-*-*\n",
            "*-*-*-*-*-*-*\n",
            "*-*-*-*-*-*-*-*\n",
            "---------------\n",
            "*-*-*-*-*-*-*-*\n",
            "*-*-*-*-*-*-*\n",
            "*-*-*-*-*-*\n",
            "*-*-*-*-*\n",
            "*-*-*-*\n",
            "*-*-*\n",
            "*-*\n",
            "*\n"
          ]
        }
      ]
    },
    {
      "cell_type": "code",
      "source": [
        "# With separator space\n",
        "\n",
        "n = int(input())\n",
        "for i in range(1,n+1):\n",
        "  print(\"*\",end=\"\")\n",
        "  print(\" *\"*(i-1))\n",
        "else:\n",
        "  b=2*n-1\n",
        "  print(\" \"*b)\n",
        "  for i in range(1,n+1):\n",
        "    print(\"*\",end=\"\")\n",
        "    print(\" *\"*(n-i))\n",
        "\n"
      ],
      "metadata": {
        "colab": {
          "base_uri": "https://localhost:8080/"
        },
        "id": "jmacGfBlnffu",
        "outputId": "f43fd8da-e2df-459d-d711-0d3557a599e6"
      },
      "execution_count": 29,
      "outputs": [
        {
          "output_type": "stream",
          "name": "stdout",
          "text": [
            "8\n",
            "*\n",
            "* *\n",
            "* * *\n",
            "* * * *\n",
            "* * * * *\n",
            "* * * * * *\n",
            "* * * * * * *\n",
            "* * * * * * * *\n",
            "               \n",
            "* * * * * * * *\n",
            "* * * * * * *\n",
            "* * * * * *\n",
            "* * * * *\n",
            "* * * *\n",
            "* * *\n",
            "* *\n",
            "*\n"
          ]
        }
      ]
    },
    {
      "cell_type": "markdown",
      "source": [
        "## Q.12 "
      ],
      "metadata": {
        "id": "3mo-2ctNnrK5"
      }
    },
    {
      "cell_type": "code",
      "source": [
        "# With separator - \n",
        "\n",
        "n = int(input())\n",
        "print(end=\"\\n\\n\")\n",
        "for i in range(1,n+1):\n",
        "  print(\"*\",end=\"\")\n",
        "  print(\"-*\"*(i-1))\n",
        "else:\n",
        "  for i in range(1,n):\n",
        "    print(\"*\",end=\"\")\n",
        "    print(\"-*\"*(n-i-1))\n",
        "\n"
      ],
      "metadata": {
        "colab": {
          "base_uri": "https://localhost:8080/"
        },
        "id": "zgTCt1zGnteH",
        "outputId": "9b5d1d86-9269-4a0c-a8e9-15e22ae3f984"
      },
      "execution_count": 30,
      "outputs": [
        {
          "output_type": "stream",
          "name": "stdout",
          "text": [
            "5\n",
            "\n",
            "\n",
            "*\n",
            "*-*\n",
            "*-*-*\n",
            "*-*-*-*\n",
            "*-*-*-*-*\n",
            "*-*-*-*\n",
            "*-*-*\n",
            "*-*\n",
            "*\n"
          ]
        }
      ]
    },
    {
      "cell_type": "code",
      "source": [
        "# With separator as space \n",
        "\n",
        "n = int(input())\n",
        "print(end=\"\\n\\n\")\n",
        "for i in range(1,n+1):\n",
        "  print(\"*\",end=\"\")\n",
        "  print(\" *\"*(i-1))\n",
        "else:\n",
        "  for i in range(1,n):\n",
        "    print(\"*\",end=\"\")\n",
        "    print(\" *\"*(n-i-1))\n",
        "\n"
      ],
      "metadata": {
        "colab": {
          "base_uri": "https://localhost:8080/"
        },
        "id": "JULAHgnGoK5q",
        "outputId": "9c7e6dcf-6952-4e5b-ce3c-4b09f45c2f3f"
      },
      "execution_count": 31,
      "outputs": [
        {
          "output_type": "stream",
          "name": "stdout",
          "text": [
            "6\n",
            "\n",
            "\n",
            "*\n",
            "* *\n",
            "* * *\n",
            "* * * *\n",
            "* * * * *\n",
            "* * * * * *\n",
            "* * * * *\n",
            "* * * *\n",
            "* * *\n",
            "* *\n",
            "*\n"
          ]
        }
      ]
    },
    {
      "cell_type": "markdown",
      "source": [
        "## Q.13 "
      ],
      "metadata": {
        "id": "87D8D2GMoO-M"
      }
    },
    {
      "cell_type": "code",
      "source": [
        "# With separator - \n",
        "\n",
        "n = int(input())\n",
        "print(end=\"\\n\\n\")\n",
        "for i in range(1,n+1):\n",
        "  print(\"-\"*2*(n-i),end=\"\")\n",
        "  print(\"*\",end=\"\") \n",
        "  print(\"-*\"*(i-1))\n",
        "\n",
        "else:\n",
        "  for i in range(1,n):\n",
        "    print(\"-\"*2*i,end=\"\")\n",
        "    print(\"*\",end=\"\")\n",
        "    print(\"-*\"*(n-i-1))\n",
        "    \n",
        " "
      ],
      "metadata": {
        "colab": {
          "base_uri": "https://localhost:8080/"
        },
        "id": "iWnl632woRPs",
        "outputId": "d63d7cb1-46b2-40ac-af61-dc6ac275011e"
      },
      "execution_count": 32,
      "outputs": [
        {
          "output_type": "stream",
          "name": "stdout",
          "text": [
            "7\n",
            "\n",
            "\n",
            "------------*\n",
            "----------*-*\n",
            "--------*-*-*\n",
            "------*-*-*-*\n",
            "----*-*-*-*-*\n",
            "--*-*-*-*-*-*\n",
            "*-*-*-*-*-*-*\n",
            "--*-*-*-*-*-*\n",
            "----*-*-*-*-*\n",
            "------*-*-*-*\n",
            "--------*-*-*\n",
            "----------*-*\n",
            "------------*\n"
          ]
        }
      ]
    },
    {
      "cell_type": "code",
      "source": [
        "# With separator as space\n",
        "\n",
        "n = int(input())\n",
        "print(end=\"\\n\\n\")\n",
        "for i in range(1,n+1):\n",
        "  print(\" \"*2*(n-i),end=\"\")\n",
        "  print(\"*\",end=\"\") \n",
        "  print(\" *\"*(i-1))\n",
        "\n",
        "else:\n",
        "  for i in range(1,n):\n",
        "    print(\" \"*2*i,end=\"\")\n",
        "    print(\"*\",end=\"\")\n",
        "    print(\" *\"*(n-i-1))\n",
        "    \n",
        " "
      ],
      "metadata": {
        "colab": {
          "base_uri": "https://localhost:8080/"
        },
        "id": "MvkQtxd8rmNY",
        "outputId": "e556f7fd-508e-431f-e968-1e71eb003f57"
      },
      "execution_count": 33,
      "outputs": [
        {
          "output_type": "stream",
          "name": "stdout",
          "text": [
            "8\n",
            "\n",
            "\n",
            "              *\n",
            "            * *\n",
            "          * * *\n",
            "        * * * *\n",
            "      * * * * *\n",
            "    * * * * * *\n",
            "  * * * * * * *\n",
            "* * * * * * * *\n",
            "  * * * * * * *\n",
            "    * * * * * *\n",
            "      * * * * *\n",
            "        * * * *\n",
            "          * * *\n",
            "            * *\n",
            "              *\n"
          ]
        }
      ]
    },
    {
      "cell_type": "markdown",
      "source": [
        "## Q. 14"
      ],
      "metadata": {
        "id": "N71Un0yYr51-"
      }
    },
    {
      "cell_type": "code",
      "source": [
        "# With separator as -\n",
        "\n",
        "n = int(input())\n",
        "print(\"\\n\\n\")\n",
        "for i in range(1,n+1):\n",
        "  print(\"-\"*(i-1),end=\"\")\n",
        "  print(\"*\",end=\"\")\n",
        "  print(\"-*\"*(n-i),end=\"\")\n",
        "  print(\"-\"*(i-1),end=\"\")\n",
        "  print()\n",
        "else:\n",
        "  for i in range(1,n+1):\n",
        "    print(\"-\"*(n-i),end=\"\")\n",
        "    print(\"*\",end=\"\")\n",
        "    print(\"-*\"*(i-1),end=\"\")\n",
        "    print(\"-\"*(n-i),end=\"\")\n",
        "    print()\n"
      ],
      "metadata": {
        "colab": {
          "base_uri": "https://localhost:8080/"
        },
        "id": "QCGmCo5fr_Oa",
        "outputId": "5f468868-fdc5-44c6-81a1-df60504476fe"
      },
      "execution_count": 34,
      "outputs": [
        {
          "output_type": "stream",
          "name": "stdout",
          "text": [
            "6\n",
            "\n",
            "\n",
            "\n",
            "*-*-*-*-*-*\n",
            "-*-*-*-*-*-\n",
            "--*-*-*-*--\n",
            "---*-*-*---\n",
            "----*-*----\n",
            "-----*-----\n",
            "-----*-----\n",
            "----*-*----\n",
            "---*-*-*---\n",
            "--*-*-*-*--\n",
            "-*-*-*-*-*-\n",
            "*-*-*-*-*-*\n"
          ]
        }
      ]
    },
    {
      "cell_type": "code",
      "source": [
        "# With separator as space\n",
        "\n",
        "n = int(input())\n",
        "print(\"\\n\\n\")\n",
        "for i in range(1,n+1):\n",
        "  print(\" \"*(i-1),end=\"\")\n",
        "  print(\"*\",end=\"\")\n",
        "  print(\" *\"*(n-i),end=\"\")\n",
        "  print(\" \"*(i-1),end=\"\")\n",
        "  print()\n",
        "else:\n",
        "  for i in range(1,n+1):\n",
        "    print(\" \"*(n-i),end=\"\")\n",
        "    print(\"*\",end=\"\")\n",
        "    print(\" *\"*(i-1),end=\"\")\n",
        "    print(\" \"*(n-i),end=\"\")\n",
        "    print()\n"
      ],
      "metadata": {
        "colab": {
          "base_uri": "https://localhost:8080/"
        },
        "id": "kwMP7FNwsdeH",
        "outputId": "6468b89c-84fa-45ec-f818-bc86cefec364"
      },
      "execution_count": 35,
      "outputs": [
        {
          "output_type": "stream",
          "name": "stdout",
          "text": [
            "7\n",
            "\n",
            "\n",
            "\n",
            "* * * * * * *\n",
            " * * * * * * \n",
            "  * * * * *  \n",
            "   * * * *   \n",
            "    * * *    \n",
            "     * *     \n",
            "      *      \n",
            "      *      \n",
            "     * *     \n",
            "    * * *    \n",
            "   * * * *   \n",
            "  * * * * *  \n",
            " * * * * * * \n",
            "* * * * * * *\n"
          ]
        }
      ]
    },
    {
      "cell_type": "markdown",
      "source": [
        "## Q. 15"
      ],
      "metadata": {
        "id": "ugdaYDZwsoKe"
      }
    },
    {
      "cell_type": "code",
      "source": [
        "\n",
        "n = int(input())\n",
        "print(\"\\n\\n\")\n",
        "for i in range(0,n):\n",
        "  print(\"*\"*(n-i),end=\"\")\n",
        "  print(\"_\"*(2*i),end=\"\")\n",
        "  print(\"*\"*(n-i),end=\"\")8\n",
        "  print()"
      ],
      "metadata": {
        "colab": {
          "base_uri": "https://localhost:8080/"
        },
        "id": "wFDAWGZusrJz",
        "outputId": "0c3ad084-82d8-4e85-9c9d-1ce6df8c68c6"
      },
      "execution_count": 36,
      "outputs": [
        {
          "output_type": "stream",
          "name": "stdout",
          "text": [
            "8\n",
            "\n",
            "\n",
            "\n",
            "****************\n",
            "*******__*******\n",
            "******____******\n",
            "*****______*****\n",
            "****________****\n",
            "***__________***\n",
            "**____________**\n",
            "*______________*\n"
          ]
        }
      ]
    }
  ]
}