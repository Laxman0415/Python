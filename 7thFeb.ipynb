{
  "nbformat": 4,
  "nbformat_minor": 0,
  "metadata": {
    "colab": {
      "name": "7thFeb.ipynb",
      "provenance": [],
      "collapsed_sections": []
    },
    "kernelspec": {
      "name": "python3",
      "display_name": "Python 3"
    },
    "language_info": {
      "name": "python"
    }
  },
  "cells": [
    {
      "cell_type": "markdown",
      "source": [
        "Q. 1 Square"
      ],
      "metadata": {
        "id": "3HbbLhLdri66"
      }
    },
    {
      "cell_type": "code",
      "execution_count": 1,
      "metadata": {
        "id": "xAPzDNZtrepi"
      },
      "outputs": [],
      "source": [
        "def square(list):\n",
        "  return [x*x for x in list if x%2==0]"
      ]
    },
    {
      "cell_type": "code",
      "source": [
        "square([1,2,3,4,5,6,7,8,9,10])"
      ],
      "metadata": {
        "colab": {
          "base_uri": "https://localhost:8080/"
        },
        "id": "_M8-ESNmr-SZ",
        "outputId": "10650783-1454-40b4-d3c4-cf411cab3132"
      },
      "execution_count": 2,
      "outputs": [
        {
          "output_type": "execute_result",
          "data": {
            "text/plain": [
              "[4, 16, 36, 64, 100]"
            ]
          },
          "metadata": {},
          "execution_count": 2
        }
      ]
    },
    {
      "cell_type": "markdown",
      "source": [
        "Q.2 Pattern"
      ],
      "metadata": {
        "id": "oTNBlSoUsGbn"
      }
    },
    {
      "cell_type": "code",
      "source": [
        "num = int(input())\n",
        "print()\n",
        "for i in range(num,0,-1):\n",
        "  print(f\"{i}\"*i)"
      ],
      "metadata": {
        "colab": {
          "base_uri": "https://localhost:8080/"
        },
        "id": "3Rfo-KF5sYeG",
        "outputId": "1f1a9f5a-7f7f-4c7d-a0cc-381d27d6b350"
      },
      "execution_count": 8,
      "outputs": [
        {
          "output_type": "stream",
          "name": "stdout",
          "text": [
            "5\n",
            "\n",
            "55555\n",
            "4444\n",
            "333\n",
            "22\n",
            "1\n"
          ]
        }
      ]
    },
    {
      "cell_type": "markdown",
      "source": [
        "Q. 3 Duplicates"
      ],
      "metadata": {
        "id": "yMM5dpxSuR-0"
      }
    },
    {
      "cell_type": "code",
      "source": [
        "string_input = input()\n",
        "output_str=\"\"\n",
        "for i in range(len(string_input)):\n",
        "  check_char = string_input[i]\n",
        "  if i==0:\n",
        "    temp_str=string_input[i+1:]\n",
        "  elif i==len(string_input):\n",
        "    temp_str=string_input[:i]\n",
        "  else:\n",
        "    temp_str=string_input[:i]+string_input[i+1:]\n",
        "  if check_char in temp_str:\n",
        "    if check_char not in output_str:\n",
        "      output_str+=check_char\n",
        "\n",
        "print(output_str)"
      ],
      "metadata": {
        "colab": {
          "base_uri": "https://localhost:8080/"
        },
        "id": "mfRxt00AuU4m",
        "outputId": "38912005-3be8-4a24-85db-bc297674e0f7"
      },
      "execution_count": 17,
      "outputs": [
        {
          "output_type": "stream",
          "name": "stdout",
          "text": [
            "ABCADEFBDFRNMN\n",
            "ABDFN\n"
          ]
        }
      ]
    },
    {
      "cell_type": "markdown",
      "source": [
        "Q. 4 Unique Words"
      ],
      "metadata": {
        "id": "0H2nPnOdu-ob"
      }
    },
    {
      "cell_type": "code",
      "source": [
        "\n",
        "def unique_word(user_str):\n",
        "  word_list = user_str.split()\n",
        "  #print(word_list)\n",
        "  output_list=[]\n",
        "  count=0\n",
        "  for word in word_list:\n",
        "    if word not in output_list:\n",
        "      output_list.append(word)\n",
        "\n",
        "     \n",
        "  print(output_list)"
      ],
      "metadata": {
        "id": "sD8sIQDMvLbu"
      },
      "execution_count": 9,
      "outputs": []
    },
    {
      "cell_type": "code",
      "source": [
        "unique_word(\"Hi How are you your you hello are you doing well doing\")"
      ],
      "metadata": {
        "colab": {
          "base_uri": "https://localhost:8080/"
        },
        "id": "fgatKUxbvocm",
        "outputId": "b76ef694-976a-4c6c-dd6e-1c1526ea4836"
      },
      "execution_count": 11,
      "outputs": [
        {
          "output_type": "stream",
          "name": "stdout",
          "text": [
            "['Hi', 'How', 'are', 'you', 'your', 'hello', 'doing', 'well']\n"
          ]
        }
      ]
    },
    {
      "cell_type": "markdown",
      "source": [
        "Q.5 Maximum and minimum values keys"
      ],
      "metadata": {
        "id": "GVCJ-jIgv1i4"
      }
    },
    {
      "cell_type": "code",
      "source": [
        "def max_min(user_dict):\n",
        "  temp_list = []\n",
        "  out_list = [] \n",
        "  for key in user_dict:\n",
        "    temp_list.append(key)\n",
        "    temp_list.append(len(user_dict[key]))\n",
        "  k=temp_list[1]\n",
        "  for i in range(3,len(temp_list),2):\n",
        "    if k<temp_list[i]:\n",
        "      k=temp_list[i]\n",
        "      j=i\n",
        "  out_list.append(temp_list[j-1])\n",
        "  k=1000000\n",
        "  for i in range(3,len(temp_list),2):\n",
        "    if k>temp_list[i]:\n",
        "      k=temp_list[i]\n",
        "      j=i\n",
        "  out_list.append(temp_list[j-1])\n",
        "  return out_list\n"
      ],
      "metadata": {
        "id": "Us32n4Oxwewf"
      },
      "execution_count": 22,
      "outputs": []
    },
    {
      "cell_type": "code",
      "source": [
        "max_min({100:'lmn',101:[1,2,3,3,4],102:\"as\",99:\"\",103:[1,2],105:'a'})"
      ],
      "metadata": {
        "colab": {
          "base_uri": "https://localhost:8080/"
        },
        "id": "E7NngTKO_SeJ",
        "outputId": "edca259f-5ae6-4244-e523-46caeb219fd1"
      },
      "execution_count": 25,
      "outputs": [
        {
          "output_type": "execute_result",
          "data": {
            "text/plain": [
              "[101, 99]"
            ]
          },
          "metadata": {},
          "execution_count": 25
        }
      ]
    }
  ]
}